{
 "cells": [
  {
   "cell_type": "markdown",
   "id": "8734705c-b5d4-49da-85c5-6e011ae15ed5",
   "metadata": {},
   "source": [
    "# Analysis I"
   ]
  },
  {
   "cell_type": "markdown",
   "id": "90b7cd54-edcd-43ae-aff0-8a758a213c91",
   "metadata": {},
   "source": [
    "**Source reference material for this notebook include:\n",
    "GA DSI Lecture Notebooks**"
   ]
  },
  {
   "cell_type": "code",
   "execution_count": 44,
   "id": "descending-force",
   "metadata": {},
   "outputs": [],
   "source": [
    "# imports\n",
    "import matplotlib.pyplot as plt\n",
    "import numpy as np\n",
    "import os\n",
    "import pandas as pd\n",
    "\n",
    "from tensorflow.keras.layers import Dense, Dropout, Flatten, Conv2D, MaxPooling2D\n",
    "from tensorflow.keras.models import Sequential\n",
    "from tensorflow.keras.preprocessing.image import img_to_array, load_img\n",
    "\n",
    "from sklearn.model_selection import train_test_split\n",
    "\n",
    "# For reproducibility\n",
    "np.random.seed(42)"
   ]
  },
  {
   "cell_type": "code",
   "execution_count": 45,
   "id": "critical-typing",
   "metadata": {},
   "outputs": [],
   "source": [
    "from tensorflow.keras.preprocessing import image_dataset_from_directory\n",
    "import tensorflow as tf\n",
    "from tensorflow.keras import layers"
   ]
  },
  {
   "cell_type": "markdown",
   "id": "chronic-flexibility",
   "metadata": {
    "tags": []
   },
   "source": [
    "## Preprocessing\n",
    "\n",
    "### Importing the data\n",
    "\n",
    "The code below will do the following:\n",
    "\n",
    "- Create a list to store array representations of images from a given class\n",
    "- Convert the array to a normalized representation\n",
    "- Store the normalized array\n",
    "- Print an error message for files that could not be converted\n",
    "- Convert the lists to a numpy array representation for compatibility with keras"
   ]
  },
  {
   "cell_type": "code",
   "execution_count": 53,
   "id": "recognized-truck",
   "metadata": {},
   "outputs": [
    {
     "name": "stdout",
     "output_type": "stream",
     "text": [
      "Error for file: .DS_Store\n",
      "506 pictures converted.\n"
     ]
    }
   ],
   "source": [
    "# create list\n",
    "good_arrays = []\n",
    "# define filepath for Dog class\n",
    "good_path = '../data/yelp_mex_food_pics/good/'\n",
    "\n",
    "# convert each image to normalized array and store\n",
    "for file in os.listdir(good_path):\n",
    "    try:\n",
    "        # target_size automatically resizes each img on import\n",
    "        good = load_img(good_path + file, target_size=(348, 348), interpolation='lanczos')\n",
    "        good_arr = img_to_array(good) / 347\n",
    "        good_arrays.append(good_arr)\n",
    "    except:\n",
    "        print(f'Error for file: {file}')\n",
    "\n",
    "print(f'{len(good_arrays)} pictures converted.')    "
   ]
  },
  {
   "cell_type": "code",
   "execution_count": 55,
   "id": "subtle-theta",
   "metadata": {},
   "outputs": [
    {
     "name": "stdout",
     "output_type": "stream",
     "text": [
      "Error for file: .DS_Store\n",
      "506 pictures converted.\n"
     ]
    }
   ],
   "source": [
    "# create list\n",
    "bad_arrays = []\n",
    "# define filepath for bad class\n",
    "bad_path = '../data/yelp_mex_food_pics/bad/'\n",
    "\n",
    "# convert each image to normalized array and store\n",
    "for file in os.listdir(bad_path):\n",
    "    try:\n",
    "        bad = load_img(bad_path + file, target_size=(348, 348),  interpolation='lanczos')\n",
    "        bad_arr = img_to_array(bad) / 347\n",
    "        bad_arrays.append(bad_arr)\n",
    "    except:\n",
    "        print(f'Error for file: {file}')\n",
    "    \n",
    "print(f'{len(bad_arrays)} pictures converted.')    "
   ]
  },
  {
   "cell_type": "code",
   "execution_count": 56,
   "id": "bf2c1ad2-247e-430b-ae69-e185d42ccd78",
   "metadata": {},
   "outputs": [
    {
     "name": "stdout",
     "output_type": "stream",
     "text": [
      "X shape: (1012, 348, 348, 3)\n",
      "y shape: (1012,)\n"
     ]
    }
   ],
   "source": [
    "# X should contain both bad and good\n",
    "X = good_arrays + bad_arrays\n",
    "\n",
    "# convert to array and check shape\n",
    "X_arr = np.array(X)\n",
    "print(f'X shape: {X_arr.shape}')\n",
    "\n",
    "# 1 for good, 0 for bad\n",
    "y = [1] * 506 + [0] * 506\n",
    "# convert to array and check shape\n",
    "y = np.array(y,)\n",
    "print(f'y shape: {y.shape}')"
   ]
  },
  {
   "cell_type": "markdown",
   "id": "banner-blood",
   "metadata": {},
   "source": [
    "### Train-test splitting"
   ]
  },
  {
   "cell_type": "code",
   "execution_count": 59,
   "id": "computational-donna",
   "metadata": {},
   "outputs": [],
   "source": [
    "X_train, X_test, y_train, y_test = train_test_split(X, y, random_state=42, stratify=y)"
   ]
  },
  {
   "cell_type": "code",
   "execution_count": 60,
   "id": "8a96c8a1-4dec-4a70-a0b9-910ec2138cff",
   "metadata": {},
   "outputs": [],
   "source": [
    "data_augmentation = Sequential(\n",
    "    [\n",
    "        layers.RandomFlip(\"horizontal\"),\n",
    "        layers.RandomRotation(0.1),\n",
    "    ]\n",
    ")"
   ]
  },
  {
   "cell_type": "code",
   "execution_count": 62,
   "id": "7724d648-becb-4c79-b129-cb7069d62260",
   "metadata": {},
   "outputs": [
    {
     "ename": "AttributeError",
     "evalue": "'list' object has no attribute 'take'",
     "output_type": "error",
     "traceback": [
      "\u001b[0;31m---------------------------------------------------------------------------\u001b[0m",
      "\u001b[0;31mAttributeError\u001b[0m                            Traceback (most recent call last)",
      "\u001b[0;32m/var/folders/m1/lw85csd9051bvbz6qyj0mnpm0000gn/T/ipykernel_7785/926286883.py\u001b[0m in \u001b[0;36m<module>\u001b[0;34m\u001b[0m\n\u001b[1;32m      1\u001b[0m \u001b[0mplt\u001b[0m\u001b[0;34m.\u001b[0m\u001b[0mfigure\u001b[0m\u001b[0;34m(\u001b[0m\u001b[0mfigsize\u001b[0m\u001b[0;34m=\u001b[0m\u001b[0;34m(\u001b[0m\u001b[0;36m10\u001b[0m\u001b[0;34m,\u001b[0m \u001b[0;36m10\u001b[0m\u001b[0;34m)\u001b[0m\u001b[0;34m)\u001b[0m\u001b[0;34m\u001b[0m\u001b[0;34m\u001b[0m\u001b[0m\n\u001b[0;32m----> 2\u001b[0;31m \u001b[0;32mfor\u001b[0m \u001b[0mimages\u001b[0m\u001b[0;34m,\u001b[0m \u001b[0m_\u001b[0m \u001b[0;32min\u001b[0m \u001b[0mX_train\u001b[0m\u001b[0;34m.\u001b[0m\u001b[0mtake\u001b[0m\u001b[0;34m(\u001b[0m\u001b[0;36m1\u001b[0m\u001b[0;34m)\u001b[0m\u001b[0;34m:\u001b[0m\u001b[0;34m\u001b[0m\u001b[0;34m\u001b[0m\u001b[0m\n\u001b[0m\u001b[1;32m      3\u001b[0m     \u001b[0;32mfor\u001b[0m \u001b[0mi\u001b[0m \u001b[0;32min\u001b[0m \u001b[0mrange\u001b[0m\u001b[0;34m(\u001b[0m\u001b[0;36m9\u001b[0m\u001b[0;34m)\u001b[0m\u001b[0;34m:\u001b[0m\u001b[0;34m\u001b[0m\u001b[0;34m\u001b[0m\u001b[0m\n\u001b[1;32m      4\u001b[0m         \u001b[0maugmented_images\u001b[0m \u001b[0;34m=\u001b[0m \u001b[0mdata_augmentation\u001b[0m\u001b[0;34m(\u001b[0m\u001b[0mimages\u001b[0m\u001b[0;34m)\u001b[0m\u001b[0;34m\u001b[0m\u001b[0;34m\u001b[0m\u001b[0m\n\u001b[1;32m      5\u001b[0m         \u001b[0max\u001b[0m \u001b[0;34m=\u001b[0m \u001b[0mplt\u001b[0m\u001b[0;34m.\u001b[0m\u001b[0msubplot\u001b[0m\u001b[0;34m(\u001b[0m\u001b[0;36m3\u001b[0m\u001b[0;34m,\u001b[0m \u001b[0;36m3\u001b[0m\u001b[0;34m,\u001b[0m \u001b[0mi\u001b[0m \u001b[0;34m+\u001b[0m \u001b[0;36m1\u001b[0m\u001b[0;34m)\u001b[0m\u001b[0;34m\u001b[0m\u001b[0;34m\u001b[0m\u001b[0m\n",
      "\u001b[0;31mAttributeError\u001b[0m: 'list' object has no attribute 'take'"
     ]
    },
    {
     "data": {
      "text/plain": [
       "<Figure size 720x720 with 0 Axes>"
      ]
     },
     "metadata": {},
     "output_type": "display_data"
    }
   ],
   "source": [
    "plt.figure(figsize=(10, 10))\n",
    "for images, _ in X_train.take(1):\n",
    "    for i in range(9):\n",
    "        augmented_images = data_augmentation(images)\n",
    "        ax = plt.subplot(3, 3, i + 1)\n",
    "        plt.imshow(augmented_images[0].numpy().astype(\"uint8\"))\n",
    "        plt.axis(\"off\")"
   ]
  },
  {
   "cell_type": "code",
   "execution_count": null,
   "id": "unexpected-bargain",
   "metadata": {},
   "outputs": [],
   "source": [
    "# # X_train = X_train.astype('float32')\n",
    "# # X_test = X_test.astype('float32')\n",
    "\n",
    "# X_train = X_train / 255\n",
    "# X_test = X_test / 255"
   ]
  },
  {
   "cell_type": "code",
   "execution_count": 70,
   "id": "educated-accountability",
   "metadata": {},
   "outputs": [],
   "source": [
    "X_train = np.array(X_train)#.reshape(1499, 256, 256, 3)"
   ]
  },
  {
   "cell_type": "code",
   "execution_count": 71,
   "id": "different-invasion",
   "metadata": {},
   "outputs": [],
   "source": [
    "X_test = np.array(X_test)#.reshape(500, 256, 256, 3)"
   ]
  },
  {
   "cell_type": "code",
   "execution_count": 72,
   "id": "clinical-uncertainty",
   "metadata": {},
   "outputs": [
    {
     "data": {
      "text/plain": [
       "(348, 348, 3)"
      ]
     },
     "execution_count": 72,
     "metadata": {},
     "output_type": "execute_result"
    }
   ],
   "source": [
    "X_train[0].shape"
   ]
  },
  {
   "cell_type": "code",
   "execution_count": 73,
   "id": "natural-legislation",
   "metadata": {},
   "outputs": [
    {
     "data": {
      "text/plain": [
       "(759,)"
      ]
     },
     "execution_count": 73,
     "metadata": {},
     "output_type": "execute_result"
    }
   ],
   "source": [
    "y_train.shape"
   ]
  },
  {
   "cell_type": "code",
   "execution_count": 74,
   "id": "unexpected-winner",
   "metadata": {},
   "outputs": [],
   "source": [
    "model = Sequential()\n",
    "\n",
    "model.add(Conv2D(64, (3,3), activation = 'relu', input_shape = (348, 348, 3)))\n",
    "model.add(MaxPooling2D(pool_size = (2,2)))\n",
    "\n",
    "# Add another:\n",
    "model.add(Conv2D(64, (3,3), activation = 'relu'))\n",
    "model.add(MaxPooling2D(pool_size = (2,2)))\n",
    "\n",
    "model.add(Flatten())\n",
    "model.add(Dense(64, activation='relu'))\n",
    "\n",
    "model.add(Dense(1, activation='sigmoid'))\n",
    "\n"
   ]
  },
  {
   "cell_type": "code",
   "execution_count": null,
   "id": "1114a2c3-94c5-43ef-9ce8-23666c089077",
   "metadata": {},
   "outputs": [],
   "source": [
    "model.compile(optimizer=\"adam\",\n",
    "              loss='binary_crossentropy',\n",
    "              metrics=['accuracy'])"
   ]
  },
  {
   "cell_type": "code",
   "execution_count": 75,
   "id": "freelance-character",
   "metadata": {},
   "outputs": [
    {
     "name": "stdout",
     "output_type": "stream",
     "text": [
      "Epoch 1/5\n",
      "12/12 [==============================] - 75s 6s/step - loss: 2.2527 - accuracy: 0.5283 - val_loss: 0.6910 - val_accuracy: 0.6087\n",
      "Epoch 2/5\n",
      "12/12 [==============================] - 71s 6s/step - loss: 0.6680 - accuracy: 0.6640 - val_loss: 0.6712 - val_accuracy: 0.6719\n",
      "Epoch 3/5\n",
      "12/12 [==============================] - 70s 6s/step - loss: 0.5970 - accuracy: 0.7115 - val_loss: 0.6499 - val_accuracy: 0.6324\n",
      "Epoch 4/5\n",
      "12/12 [==============================] - 69s 6s/step - loss: 0.4085 - accuracy: 0.8445 - val_loss: 0.7180 - val_accuracy: 0.6245\n",
      "Epoch 5/5\n",
      "12/12 [==============================] - 71s 6s/step - loss: 0.2356 - accuracy: 0.9328 - val_loss: 1.1079 - val_accuracy: 0.5652\n"
     ]
    }
   ],
   "source": [
    "h = model.fit(X_train, y_train, validation_data=(X_test, y_test), batch_size=64, epochs=5)"
   ]
  },
  {
   "cell_type": "code",
   "execution_count": null,
   "id": "91dce0d2-ad45-45dd-81f8-3bf7c099d846",
   "metadata": {},
   "outputs": [],
   "source": []
  },
  {
   "cell_type": "code",
   "execution_count": 18,
   "id": "lonely-capitol",
   "metadata": {},
   "outputs": [
    {
     "name": "stdout",
     "output_type": "stream",
     "text": [
      "Model: \"sequential\"\n",
      "_________________________________________________________________\n",
      " Layer (type)                Output Shape              Param #   \n",
      "=================================================================\n",
      " conv2d (Conv2D)             (None, 346, 346, 64)      1792      \n",
      "                                                                 \n",
      " max_pooling2d (MaxPooling2D  (None, 173, 173, 64)     0         \n",
      " )                                                               \n",
      "                                                                 \n",
      " conv2d_1 (Conv2D)           (None, 171, 171, 64)      36928     \n",
      "                                                                 \n",
      " max_pooling2d_1 (MaxPooling  (None, 85, 85, 64)       0         \n",
      " 2D)                                                             \n",
      "                                                                 \n",
      " flatten (Flatten)           (None, 462400)            0         \n",
      "                                                                 \n",
      " dense (Dense)               (None, 64)                29593664  \n",
      "                                                                 \n",
      " dense_1 (Dense)             (None, 1)                 65        \n",
      "                                                                 \n",
      "=================================================================\n",
      "Total params: 29,632,449\n",
      "Trainable params: 29,632,449\n",
      "Non-trainable params: 0\n",
      "_________________________________________________________________\n"
     ]
    }
   ],
   "source": [
    "model.summary()"
   ]
  },
  {
   "cell_type": "code",
   "execution_count": 77,
   "id": "70502098-21d4-4ffc-9abe-cb2bb0b34fdb",
   "metadata": {},
   "outputs": [
    {
     "data": {
      "image/png": "[encoded data removed]",
      "text/plain": [
       "<Figure size 432x288 with 1 Axes>"
      ]
     },
     "metadata": {
      "needs_background": "light"
     },
     "output_type": "display_data"
    }
   ],
   "source": [
    "plt.plot(h.history['loss'], label='Train loss')\n",
    "plt.plot(h.history['val_loss'], label='Val Loss')\n",
    "plt.legend();"
   ]
  },
  {
   "cell_type": "code",
   "execution_count": 20,
   "id": "6cdb1810-4e6a-4e63-997c-d29416fb91a1",
   "metadata": {},
   "outputs": [],
   "source": [
    "#~~~~~~~~~~~~~~~~~~~2nd run w/ batch size 32 and 8 epochs"
   ]
  },
  {
   "cell_type": "code",
   "execution_count": 26,
   "id": "3a31be9f-cfa9-4a72-89a5-eec1a09228a8",
   "metadata": {},
   "outputs": [],
   "source": [
    "X_train, X_test, y_train, y_test = train_test_split(X, y, random_state=42, stratify=y)"
   ]
  },
  {
   "cell_type": "code",
   "execution_count": 27,
   "id": "4b7e653e-e068-4fc6-a740-faa1159a56f6",
   "metadata": {},
   "outputs": [],
   "source": [
    "X_train = np.array(X_train)#.reshape(1499, 256, 256, 3)"
   ]
  },
  {
   "cell_type": "code",
   "execution_count": 28,
   "id": "3f869e15-9dd5-40dc-9ac7-223b5b4577ce",
   "metadata": {},
   "outputs": [],
   "source": [
    "X_test = np.array(X_test)#.reshape(500, 256, 256, 3)"
   ]
  },
  {
   "cell_type": "code",
   "execution_count": 29,
   "id": "d2cecbc5-c453-4213-b575-490cba2f335b",
   "metadata": {},
   "outputs": [
    {
     "data": {
      "text/plain": [
       "(348, 348, 3)"
      ]
     },
     "execution_count": 29,
     "metadata": {},
     "output_type": "execute_result"
    }
   ],
   "source": [
    "X_train[0].shape"
   ]
  },
  {
   "cell_type": "code",
   "execution_count": 30,
   "id": "ecbdf8bd-40e4-44ab-bfd0-ec52b0331c46",
   "metadata": {},
   "outputs": [
    {
     "data": {
      "text/plain": [
       "(759,)"
      ]
     },
     "execution_count": 30,
     "metadata": {},
     "output_type": "execute_result"
    }
   ],
   "source": [
    "y_train.shape"
   ]
  },
  {
   "cell_type": "code",
   "execution_count": 31,
   "id": "31c09b8e-822d-4245-ac5d-fcffd1c10118",
   "metadata": {},
   "outputs": [],
   "source": [
    "model = Sequential()\n",
    "\n",
    "model.add(Conv2D(32, (3,3), activation = 'relu', input_shape = (348, 348, 3)))\n",
    "model.add(MaxPooling2D(pool_size = (2,2)))\n",
    "\n",
    "# Add another:\n",
    "model.add(Conv2D(32, (3,3), activation = 'relu'))\n",
    "model.add(MaxPooling2D(pool_size = (2,2)))\n",
    "\n",
    "model.add(Flatten())\n",
    "model.add(Dense(32, activation='relu'))\n",
    "\n",
    "model.add(Dense(1, activation='sigmoid'))\n",
    "\n",
    "model.compile(optimizer=\"adam\",\n",
    "              loss='binary_crossentropy',\n",
    "              metrics=['accuracy'])"
   ]
  },
  {
   "cell_type": "code",
   "execution_count": 32,
   "id": "fb370d75-6a25-4021-a462-90fa027c940e",
   "metadata": {},
   "outputs": [
    {
     "name": "stdout",
     "output_type": "stream",
     "text": [
      "Epoch 1/8\n",
      "24/24 [==============================] - 32s 1s/step - loss: 1.2319 - accuracy: 0.5257 - val_loss: 0.6926 - val_accuracy: 0.5020\n",
      "Epoch 2/8\n",
      "24/24 [==============================] - 34s 1s/step - loss: 0.6805 - accuracy: 0.5823 - val_loss: 0.6686 - val_accuracy: 0.6601\n",
      "Epoch 3/8\n",
      "24/24 [==============================] - 36s 2s/step - loss: 0.5998 - accuracy: 0.7036 - val_loss: 0.6338 - val_accuracy: 0.6759\n",
      "Epoch 4/8\n",
      "24/24 [==============================] - 37s 2s/step - loss: 0.5213 - accuracy: 0.7602 - val_loss: 0.6718 - val_accuracy: 0.6798\n",
      "Epoch 5/8\n",
      "24/24 [==============================] - 37s 2s/step - loss: 0.2864 - accuracy: 0.8762 - val_loss: 0.5329 - val_accuracy: 0.7431\n",
      "Epoch 6/8\n",
      "24/24 [==============================] - 37s 2s/step - loss: 0.1477 - accuracy: 0.9486 - val_loss: 0.6759 - val_accuracy: 0.6996\n",
      "Epoch 7/8\n",
      "24/24 [==============================] - 38s 2s/step - loss: 0.1115 - accuracy: 0.9789 - val_loss: 0.7472 - val_accuracy: 0.6719\n",
      "Epoch 8/8\n",
      "24/24 [==============================] - 40s 2s/step - loss: 0.0451 - accuracy: 0.9934 - val_loss: 0.7452 - val_accuracy: 0.7233\n"
     ]
    }
   ],
   "source": [
    "h2 = model.fit(X_train, y_train, validation_data=(X_test, y_test), batch_size=32, epochs=8)"
   ]
  },
  {
   "cell_type": "code",
   "execution_count": 33,
   "id": "106b67f4-2422-4247-9f0b-6fa881fda425",
   "metadata": {},
   "outputs": [
    {
     "data": {
      "image/png": "[encoded data removed]",
      "text/plain": [
       "<Figure size 432x288 with 1 Axes>"
      ]
     },
     "metadata": {
      "needs_background": "light"
     },
     "output_type": "display_data"
    }
   ],
   "source": [
    "plt.plot(h2.history['loss'], label='Train loss')\n",
    "plt.plot(h2.history['val_loss'], label='Val Loss')\n",
    "plt.legend();"
   ]
  },
  {
   "cell_type": "code",
   "execution_count": 34,
   "id": "69da539c-a6b4-4304-8b32-5976d7fdd2ad",
   "metadata": {},
   "outputs": [],
   "source": [
    "# ~~~~~~~~~~~~~~~~~~~~~~~~~~~~~ now w/ batch 128"
   ]
  },
  {
   "cell_type": "code",
   "execution_count": 38,
   "id": "4f6de0d1-de83-407d-9539-fc07be2400c6",
   "metadata": {},
   "outputs": [],
   "source": [
    "X_train, X_test, y_train, y_test = train_test_split(X, y, random_state=42, stratify=y)"
   ]
  },
  {
   "cell_type": "code",
   "execution_count": 39,
   "id": "3ac59eaa-4681-4785-9078-e991c77f2d3b",
   "metadata": {},
   "outputs": [],
   "source": [
    "X_train = np.array(X_train)"
   ]
  },
  {
   "cell_type": "code",
   "execution_count": 40,
   "id": "71d7cda3-958b-4636-a911-3d855d39c4aa",
   "metadata": {},
   "outputs": [],
   "source": [
    "X_test = np.array(X_test)"
   ]
  },
  {
   "cell_type": "code",
   "execution_count": 41,
   "id": "b8329b37-5e7e-4158-8c03-04c4cbf403c0",
   "metadata": {},
   "outputs": [],
   "source": [
    "model = Sequential()\n",
    "\n",
    "model.add(Conv2D(128, (3,3), activation = 'relu', input_shape = (348, 348, 3)))\n",
    "model.add(MaxPooling2D(pool_size = (2,2)))\n",
    "\n",
    "# Add another:\n",
    "model.add(Conv2D(128, (3,3), activation = 'relu'))\n",
    "model.add(MaxPooling2D(pool_size = (2,2)))\n",
    "\n",
    "model.add(Flatten())\n",
    "model.add(Dense(128, activation='relu'))\n",
    "\n",
    "model.add(Dense(1, activation='sigmoid'))\n",
    "\n",
    "model.compile(optimizer=\"adam\",\n",
    "              loss='binary_crossentropy',\n",
    "              metrics=['accuracy'])"
   ]
  },
  {
   "cell_type": "code",
   "execution_count": 42,
   "id": "56fecb77-5694-4481-9a41-730a57011a4b",
   "metadata": {},
   "outputs": [
    {
     "name": "stdout",
     "output_type": "stream",
     "text": [
      "Epoch 1/4\n",
      "6/6 [==============================] - 325s 48s/step - loss: 6.2354 - accuracy: 0.4875 - val_loss: 0.6967 - val_accuracy: 0.4980\n",
      "Epoch 2/4\n",
      "6/6 [==============================] - 250s 42s/step - loss: 0.6925 - accuracy: 0.5244 - val_loss: 0.6925 - val_accuracy: 0.5020\n",
      "Epoch 3/4\n",
      "6/6 [==============================] - 247s 41s/step - loss: 0.6667 - accuracy: 0.5876 - val_loss: 0.6350 - val_accuracy: 0.6206\n",
      "Epoch 4/4\n",
      "6/6 [==============================] - 230s 39s/step - loss: 0.6834 - accuracy: 0.6021 - val_loss: 0.6173 - val_accuracy: 0.7273\n"
     ]
    }
   ],
   "source": [
    "h3 = model.fit(X_train, y_train, validation_data=(X_test, y_test), batch_size=128, epochs=4)"
   ]
  },
  {
   "cell_type": "code",
   "execution_count": 76,
   "id": "d72508c7-e5bc-48fb-a594-869f89c772c3",
   "metadata": {},
   "outputs": [
    {
     "data": {
      "image/png": "[encoded data removed]",
      "text/plain": [
       "<Figure size 432x288 with 1 Axes>"
      ]
     },
     "metadata": {
      "needs_background": "light"
     },
     "output_type": "display_data"
    }
   ],
   "source": [
    "plt.plot(h2.history['loss'], label='Train loss')\n",
    "plt.plot(h2.history['val_loss'], label='Val Loss')\n",
    "plt.legend();"
   ]
  },
  {
   "cell_type": "code",
   "execution_count": null,
   "id": "063631a8-5cb6-47b9-bb0b-4f64b0745412",
   "metadata": {},
   "outputs": [],
   "source": [
    "#~~~~~~~~~~~~~~~~~~~~~~~~ back to batch 64; add augmentation"
   ]
  },
  {
   "cell_type": "code",
   "execution_count": 78,
   "id": "8e8e14df-3468-4585-879b-1d0bd108ff37",
   "metadata": {},
   "outputs": [],
   "source": [
    "X_train, X_test, y_train, y_test = train_test_split(X, y, random_state=42, stratify=y)"
   ]
  },
  {
   "cell_type": "code",
   "execution_count": 79,
   "id": "549e2ede-0c5d-4e87-9f60-ad1cbdfefba8",
   "metadata": {},
   "outputs": [],
   "source": [
    "X_train = np.array(X_train)"
   ]
  },
  {
   "cell_type": "code",
   "execution_count": 80,
   "id": "a02cd02a-87e8-4d25-990c-7d559333298d",
   "metadata": {},
   "outputs": [],
   "source": [
    "X_test = np.array(X_test)"
   ]
  },
  {
   "cell_type": "code",
   "execution_count": 81,
   "id": "60c200b3-96f5-4466-b6d8-d31ab9ed3f30",
   "metadata": {},
   "outputs": [],
   "source": [
    "model = Sequential()\n",
    "data_augmentation\n",
    "model.add(Conv2D(64, (3,3), activation = 'relu', input_shape = (348, 348, 3)))\n",
    "model.add(MaxPooling2D(pool_size = (2,2)))\n",
    "\n",
    "# Add another:\n",
    "model.add(Conv2D(64, (3,3), activation = 'relu'))\n",
    "model.add(MaxPooling2D(pool_size = (2,2)))\n",
    "\n",
    "model.add(Flatten())\n",
    "model.add(Dense(64, activation='relu'))\n",
    "\n",
    "model.add(Dense(1, activation='sigmoid'))\n",
    "\n",
    "model.compile(optimizer=\"adam\",\n",
    "              loss='binary_crossentropy',\n",
    "              metrics=['accuracy'])"
   ]
  },
  {
   "cell_type": "code",
   "execution_count": null,
   "id": "690a7c6c-6e24-4596-9672-ef334ca2b3c6",
   "metadata": {},
   "outputs": [
    {
     "name": "stdout",
     "output_type": "stream",
     "text": [
      "Epoch 1/4\n"
     ]
    }
   ],
   "source": [
    "h4 = model.fit(X_train, y_train, validation_data=(X_test, y_test), batch_size=64, epochs=4)"
   ]
  },
  {
   "cell_type": "code",
   "execution_count": null,
   "id": "87a19349-c8dd-4a1c-bb3c-d88361905312",
   "metadata": {},
   "outputs": [],
   "source": [
    "plt.plot(h4.history['loss'], label='Train loss')\n",
    "plt.plot(h4.history['val_loss'], label='Val Loss')\n",
    "plt.legend();"
   ]
  }
 ],
 "metadata": {
  "kernelspec": {
   "display_name": "Python 3 (ipykernel)",
   "language": "python",
   "name": "python3"
  },
  "language_info": {
   "codemirror_mode": {
    "name": "ipython",
    "version": 3
   },
   "file_extension": ".py",
   "mimetype": "text/x-python",
   "name": "python",
   "nbconvert_exporter": "python",
   "pygments_lexer": "ipython3",
   "version": "3.9.7"
  }
 },
 "nbformat": 4,
 "nbformat_minor": 5
}
